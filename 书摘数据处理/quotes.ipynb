{
 "cells": [
  {
   "cell_type": "code",
   "execution_count": 4,
   "metadata": {},
   "outputs": [],
   "source": [
    "## 从源文件处理摘抄，转为js文件\n",
    "# 打开并读取文件\n",
    "with open(\"摘抄原数据.txt\", \"r\", encoding=\"utf-8\") as file:\n",
    "    lines = file.readlines()\n",
    "\n",
    "# 提取书摘\n",
    "quotes = [line.replace(\"■\", \"\").strip() for line in lines]\n",
    "\n",
    "# 创建 JavaScript 文件\n",
    "with open(\"quotes.js\", \"w\", encoding=\"utf-8\") as file:\n",
    "    file.write(\"const quotes = [\\n\")\n",
    "    for quote in quotes:\n",
    "        file.write(f'    \"{quote}\",\\n')  # 使用f-string格式化字符串\n",
    "    file.write(\"];\\n\")\n",
    "\n"
   ]
  }
 ],
 "metadata": {
  "kernelspec": {
   "display_name": "base",
   "language": "python",
   "name": "python3"
  },
  "language_info": {
   "codemirror_mode": {
    "name": "ipython",
    "version": 3
   },
   "file_extension": ".py",
   "mimetype": "text/x-python",
   "name": "python",
   "nbconvert_exporter": "python",
   "pygments_lexer": "ipython3",
   "version": "3.9.13"
  },
  "orig_nbformat": 4
 },
 "nbformat": 4,
 "nbformat_minor": 2
}
